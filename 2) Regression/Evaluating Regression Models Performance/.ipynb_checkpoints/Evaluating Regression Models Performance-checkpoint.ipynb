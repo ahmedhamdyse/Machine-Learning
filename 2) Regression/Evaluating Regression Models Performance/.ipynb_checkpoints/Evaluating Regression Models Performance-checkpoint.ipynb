{
 "cells": [
  {
   "cell_type": "markdown",
   "metadata": {},
   "source": [
    "# What is R Squared and regression model performance in general \n",
    "<ul>\n",
    "<li>without using regression model for prediction we can use the mean value of data, but we use regression model for improving this prediction.</li>\n",
    "<li>So R Squared evaluate how much this prediction model better than the mean value, so if 0.68 that means the error of model prediction is less than the error of mean value by 0.68, so 0.68 of the variation of y is explained by x.</li>\n",
    "<ul>\n",
    "\n"
   ]
  },
  {
   "cell_type": "markdown",
   "metadata": {},
   "source": [
    "# Evaluate How well the model fit the data and will be good with test data also\n",
    "<ol>\n",
    "    <li>R squared : biased, because it never decreases when adding new features just increase or pause.</li>\n",
    "    <li>adjusted R squared : has some penalties factor make it possible to decrease when adding new features.</li>\n",
    "</ol>\n",
    "Use <font color=\"blue\">Adjusted R square </font>for evaluation: so it's between ( 0 --> 1 )  1 is the best\n",
    "\n",
    "<font color=\"red\">Note : </font>during backward elimination, please watch adjusted R square maybe make you take a decision to stop elimination."
   ]
  },
  {
   "cell_type": "markdown",
   "metadata": {},
   "source": [
    "# R squared & Mean Square Error : \n",
    "R2 is a normalized version of MSE."
   ]
  },
  {
   "cell_type": "markdown",
   "metadata": {},
   "source": [
    "# R squared without statsmodel API \n",
    "regressor.score(IV,DV)"
   ]
  },
  {
   "cell_type": "code",
   "execution_count": 1,
   "metadata": {},
   "outputs": [],
   "source": [
    "# Don't run that without Data\n",
    "from sklearn.tree import DecisionTreeRegressor\n",
    "regressor= DecisionTreeRegressor()\n",
    "regressor.score(IV,DV)"
   ]
  },
  {
   "cell_type": "markdown",
   "metadata": {},
   "source": [
    "# Mean Square Error"
   ]
  },
  {
   "cell_type": "code",
   "execution_count": 2,
   "metadata": {},
   "outputs": [],
   "source": [
    "# Don't run that without Data\n",
    "from sklearn.metrics import mean_squared_error\n",
    "MSE = mean_squared_error(y_True,y_pred=)"
   ]
  },
  {
   "cell_type": "markdown",
   "metadata": {},
   "source": [
    "# Whem mean Squared error and whe R Squared\n",
    "<ul>\n",
    "\n",
    "<li><font color=\"blue\">Mean Squared Error (No value right or wrong): </font>selecting one prediction model over another by the lowest mean squared error</li>\n",
    "\n",
    "<li><font color=\"blue\">R Squared ( 0 ---> 1 so  1 is  best  ):</font>for model  fitting the data if test or train (when act with one model that I already selected)</li>\n",
    "</ul>\n"
   ]
  },
  {
   "cell_type": "markdown",
   "metadata": {},
   "source": [
    " # Done :) "
   ]
  }
 ],
 "metadata": {
  "kernelspec": {
   "display_name": "Python 3",
   "language": "python",
   "name": "python3"
  },
  "language_info": {
   "codemirror_mode": {
    "name": "ipython",
    "version": 3
   },
   "file_extension": ".py",
   "mimetype": "text/x-python",
   "name": "python",
   "nbconvert_exporter": "python",
   "pygments_lexer": "ipython3",
   "version": "3.7.0"
  }
 },
 "nbformat": 4,
 "nbformat_minor": 2
}
