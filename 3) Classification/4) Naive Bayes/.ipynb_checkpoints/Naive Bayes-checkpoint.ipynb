{
 "cells": [
  {
   "cell_type": "markdown",
   "metadata": {},
   "source": [
    "# Naive Bayes\n",
    "posterior probability = likelihood probability * prior probability / Marginal likelihood.    \n",
    "P(classA|X) = P(X|classA) * p(ClassA) / P(X)\n",
    "<ol>\n",
    "<li><font color=\"blue\">Prior probability : </font> number of points in this class/ all data points</li>\n",
    "<li><font color=\"blue\">Marginal likelihood : </font> number of all points in a circle around the new data point / all number of data points </li>\n",
    "<li><font color=\"blue\">Likelihood probability : </font> number of points in a circle around the new data point of specefic class / all number of data points in this class</li>\n",
    "</ol>"
   ]
  },
  {
   "cell_type": "code",
   "execution_count": null,
   "metadata": {},
   "outputs": [],
   "source": []
  }
 ],
 "metadata": {
  "kernelspec": {
   "display_name": "Python 3",
   "language": "python",
   "name": "python3"
  },
  "language_info": {
   "codemirror_mode": {
    "name": "ipython",
    "version": 3
   },
   "file_extension": ".py",
   "mimetype": "text/x-python",
   "name": "python",
   "nbconvert_exporter": "python",
   "pygments_lexer": "ipython3",
   "version": "3.7.0"
  }
 },
 "nbformat": 4,
 "nbformat_minor": 2
}
